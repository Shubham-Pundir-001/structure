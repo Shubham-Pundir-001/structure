{
  "cells": [
    {
      "cell_type": "markdown",
      "metadata": {
        "id": "view-in-github",
        "colab_type": "text"
      },
      "source": [
        "<a href=\"https://colab.research.google.com/github/Shubham-Pundir-001/structure/blob/main/data__structure.ipynb\" target=\"_parent\"><img src=\"https://colab.research.google.com/assets/colab-badge.svg\" alt=\"Open In Colab\"/></a>"
      ]
    },
    {
      "cell_type": "markdown",
      "metadata": {
        "id": "QMDhkyI4CRtN"
      },
      "source": [
        "qes.1 write a code to reverse a string?"
      ]
    },
    {
      "cell_type": "code",
      "execution_count": null,
      "metadata": {
        "id": "71k4wOfkCke_"
      },
      "outputs": [],
      "source": [
        "str1=\"i am doing a course of datanalytics from pwskills\""
      ]
    },
    {
      "cell_type": "code",
      "execution_count": null,
      "metadata": {
        "colab": {
          "base_uri": "https://localhost:8080/",
          "height": 35
        },
        "id": "-eZPQQDOC4eY",
        "outputId": "bc7a575c-bc0b-4927-bcb9-5892032edcaf"
      },
      "outputs": [
        {
          "data": {
            "application/vnd.google.colaboratory.intrinsic+json": {
              "type": "string"
            },
            "text/plain": [
              "'sllikswp morf scitylanatad fo esruoc a gniod ma i'"
            ]
          },
          "execution_count": 83,
          "metadata": {},
          "output_type": "execute_result"
        }
      ],
      "source": [
        "str1[::-1]"
      ]
    },
    {
      "cell_type": "markdown",
      "metadata": {
        "id": "WWGJL3wZDnHD"
      },
      "source": [
        "2.write a code to count the number of vowel in string."
      ]
    },
    {
      "cell_type": "code",
      "execution_count": null,
      "metadata": {
        "id": "zRn6HjqNC4gM"
      },
      "outputs": [],
      "source": [
        "str2=\"he is playing cricket in the playground\"00\n"
      ]
    },
    {
      "cell_type": "code",
      "execution_count": null,
      "metadata": {
        "colab": {
          "base_uri": "https://localhost:8080/"
        },
        "id": "5-x6XDY5FQ9q",
        "outputId": "37be7a0f-4b2b-4ac4-f28a-1be67eba0d07"
      },
      "outputs": [
        {
          "name": "stdout",
          "output_type": "stream",
          "text": [
            "the numbher of vowels: 11\n"
          ]
        }
      ],
      "source": [
        "vowel=\"aeiouAEIOU\"\n",
        "count=0\n",
        "for i in str2:\n",
        " if i in vowel :\n",
        "     count+=1\n",
        "\n",
        "print(\"the numbher of vowels:\" ,count)"
      ]
    },
    {
      "cell_type": "markdown",
      "metadata": {
        "id": "DcUtEQh_KaZb"
      },
      "source": [
        "3.write a code to check if a given string is pallndrome or not."
      ]
    },
    {
      "cell_type": "code",
      "execution_count": null,
      "metadata": {
        "id": "HKQmmNBvKZGf"
      },
      "outputs": [],
      "source": [
        "str3=\"nitin\"\n"
      ]
    },
    {
      "cell_type": "code",
      "execution_count": null,
      "metadata": {
        "colab": {
          "base_uri": "https://localhost:8080/"
        },
        "id": "jaq9UP2zGicP",
        "outputId": "826434a9-796d-43b4-ca24-9c4746100306"
      },
      "outputs": [
        {
          "output_type": "stream",
          "name": "stdout",
          "text": [
            "string is pallndorme\n"
          ]
        }
      ],
      "source": [
        "\n",
        "str3.replace(\" \",\"\").lower()\n",
        "if str3==str3[::-1]:\n",
        "   print(\"string is pallndorme\")\n",
        "else:\n",
        "  print(\"string is not pallndorme\")\n",
        "\n"
      ]
    },
    {
      "cell_type": "markdown",
      "metadata": {
        "id": "YZU2PPUNSSgJ"
      },
      "source": [
        "4. write a code to check if two  given string are anagrams of  each other."
      ]
    },
    {
      "cell_type": "code",
      "execution_count": null,
      "metadata": {
        "colab": {
          "base_uri": "https://localhost:8080/"
        },
        "id": "1XBI5y1ueWtF",
        "outputId": "3cc57189-9c62-46e2-b1cd-c9f1b996bca7"
      },
      "outputs": [
        {
          "name": "stdout",
          "output_type": "stream",
          "text": [
            "shubham and hubhams are anagrams\n"
          ]
        }
      ],
      "source": [
        "from collections import Counter\n",
        "str5=\"Shubham\"\n",
        "str6=\"Hubhams\"\n",
        "\n",
        "str5=str5.replace(\" \",\"\").lower()\n",
        "str6=str6.replace(\" \",\"\").lower()\n",
        "if Counter(str5)==Counter(str6):\n",
        "  print(f\"{str5} and {str6} are anagrams\")\n",
        "else:\n",
        "  print(\"strng are not anagrams\")"
      ]
    },
    {
      "cell_type": "code",
      "execution_count": null,
      "metadata": {
        "id": "taHOq9gXPUa1"
      },
      "outputs": [],
      "source": [
        "##5. wtite a code to find all occurence of a given substring with another string\n"
      ]
    },
    {
      "cell_type": "code",
      "execution_count": null,
      "metadata": {
        "id": "LAewXKcrMglQ",
        "colab": {
          "base_uri": "https://localhost:8080/",
          "height": 35
        },
        "outputId": "78fe1f22-5c47-460f-ec5d-75d84b0a4115"
      },
      "outputs": [
        {
          "output_type": "execute_result",
          "data": {
            "text/plain": [
              "'ismyfriends'"
            ],
            "application/vnd.google.colaboratory.intrinsic+json": {
              "type": "string"
            }
          },
          "metadata": {},
          "execution_count": 1
        }
      ],
      "source": [
        "str1=(\"he is my friends who belong to delhi\").replace(\" \",\"\")\n",
        "sub_str2=(\"is my friends\").replace(\" \",\"\")\n",
        "sub_str2\n"
      ]
    },
    {
      "cell_type": "code",
      "execution_count": null,
      "metadata": {
        "colab": {
          "base_uri": "https://localhost:8080/"
        },
        "id": "SM3OC_1jOiUC",
        "outputId": "86450ed5-3135-464e-9f2a-a789cc8bb31e"
      },
      "outputs": [
        {
          "output_type": "stream",
          "name": "stdout",
          "text": [
            "11\n"
          ]
        }
      ],
      "source": [
        "count=0\n",
        "\n",
        "for i in sub_str2:\n",
        "  if i in str1:\n",
        "    count+=1\n",
        "print(count)\n"
      ]
    },
    {
      "cell_type": "code",
      "execution_count": null,
      "metadata": {
        "colab": {
          "base_uri": "https://localhost:8080/"
        },
        "id": "mijzXhN6PH1E",
        "outputId": "5bfbdaa8-f1b7-448d-9cae-187ab4bacfe5"
      },
      "outputs": [
        {
          "name": "stdout",
          "output_type": "stream",
          "text": [
            "a3b3c3d3"
          ]
        }
      ],
      "source": [
        "##6.write a code to perform basis string compression using the counts of repeated characters.\n",
        "str1=\"aaabbbcccddd\"\n",
        "count=1\n",
        "for i in range(1,len(str1)):\n",
        "  if str1[i]==str1[i-1]:\n",
        "    count+=1\n",
        "  else:\n",
        "    print(f\"{str1[i-1]}{count}\", end=\"\")\n",
        "    count=1\n",
        "print(f\"{str1[i-1]}{count}\",end=\"\")\n"
      ]
    },
    {
      "cell_type": "code",
      "execution_count": null,
      "metadata": {
        "colab": {
          "base_uri": "https://localhost:8080/"
        },
        "id": "aPnWOjf3R_V1",
        "outputId": "10d7646b-c251-44f6-c6de-403ef34e7be2"
      },
      "outputs": [
        {
          "output_type": "stream",
          "name": "stdout",
          "text": [
            "{'g', 'f', 'a', 'e', 'h', 'c', 'd', 'b'}\n"
          ]
        }
      ],
      "source": [
        "##7.write a code to determine if  string has all unique character.\n",
        "str1=\"abcdefgabcedgh\"\n",
        "if not callable(set):\n",
        "    del set\n",
        "seen=set()\n",
        "for i in str1:\n",
        "  if i in seen:\n",
        "    pass\n",
        "  seen.add(i)\n",
        "print(seen)\n",
        "\n"
      ]
    },
    {
      "cell_type": "code",
      "execution_count": null,
      "metadata": {
        "id": "PhJ4Hm1IXavp"
      },
      "outputs": [],
      "source": [
        "str1=\"a,b,c,d,e\""
      ]
    },
    {
      "cell_type": "code",
      "execution_count": null,
      "metadata": {
        "colab": {
          "base_uri": "https://localhost:8080/"
        },
        "id": "IedNEvZNXhcN",
        "outputId": "2de7d5ec-b6ae-40cc-c01d-510be2f18373"
      },
      "outputs": [
        {
          "name": "stdout",
          "output_type": "stream",
          "text": [
            "string is not unique\n"
          ]
        }
      ],
      "source": [
        "for i in str:\n",
        "  if i in str;"
      ]
    },
    {
      "cell_type": "code",
      "execution_count": null,
      "metadata": {
        "colab": {
          "base_uri": "https://localhost:8080/",
          "height": 35
        },
        "id": "46xhNTNhfY56",
        "outputId": "3984c438-f97d-4334-badd-fade40e6ea91"
      },
      "outputs": [
        {
          "data": {
            "application/vnd.google.colaboratory.intrinsic+json": {
              "type": "string"
            },
            "text/plain": [
              "'HE IS FORM DELHI'"
            ]
          },
          "execution_count": 60,
          "metadata": {},
          "output_type": "execute_result"
        }
      ],
      "source": [
        "## 8.write a code to convert the  given string in upper and lowecase\n",
        "str=\"he is form Delhi\"\n",
        "str.upper()"
      ]
    },
    {
      "cell_type": "code",
      "execution_count": null,
      "metadata": {
        "colab": {
          "base_uri": "https://localhost:8080/",
          "height": 35
        },
        "id": "M0dQbpX5iPjz",
        "outputId": "967fdcd4-731a-472d-a48e-84b377173345"
      },
      "outputs": [
        {
          "data": {
            "application/vnd.google.colaboratory.intrinsic+json": {
              "type": "string"
            },
            "text/plain": [
              "'he is form delhi'"
            ]
          },
          "execution_count": 61,
          "metadata": {},
          "output_type": "execute_result"
        }
      ],
      "source": [
        "str.lower()"
      ]
    },
    {
      "cell_type": "code",
      "execution_count": null,
      "metadata": {
        "colab": {
          "base_uri": "https://localhost:8080/"
        },
        "id": "amQd2xQBiyHZ",
        "outputId": "1488231f-c49f-46de-9692-c0ffdce1c48d"
      },
      "outputs": [
        {
          "output_type": "execute_result",
          "data": {
            "text/plain": [
              "2"
            ]
          },
          "metadata": {},
          "execution_count": 9
        }
      ],
      "source": [
        "##9.write a code to count the number of words in string\n",
        "str1=\"ram and \"\n",
        "str1=str1.split()\n",
        "len(str1)"
      ]
    },
    {
      "cell_type": "code",
      "execution_count": null,
      "metadata": {
        "colab": {
          "base_uri": "https://localhost:8080/"
        },
        "id": "vszlp4BHjESD",
        "outputId": "7e621a49-d1db-4968-9ae3-e63f011092ef"
      },
      "outputs": [
        {
          "name": "stdout",
          "output_type": "stream",
          "text": [
            "my name is shubham my name is abhishek\n"
          ]
        }
      ],
      "source": [
        "##10 write a code to concatenate two string without using the +operator\n",
        "str1=\"my name is shubham\"\n",
        "str2=\"my name is abhishek\"\n",
        "print(f\"{str1} {str2}\")"
      ]
    },
    {
      "cell_type": "code",
      "execution_count": null,
      "metadata": {
        "id": "C5luVxyFr7kh"
      },
      "outputs": [],
      "source": [
        "##11.write a code to remove all occurence of a specific element from list.\n",
        "lis=[2,7,3,1,7,3]\n",
        "element=7\n",
        "occurence=2"
      ]
    },
    {
      "cell_type": "code",
      "execution_count": null,
      "metadata": {
        "id": "iuHjrFBOwTH_"
      },
      "outputs": [],
      "source": [
        "def remove_occurence(my_list,element):\n",
        "  while element in my_list:\n",
        "    my_list.remove(element)\n",
        "  return my_list\n"
      ]
    },
    {
      "cell_type": "code",
      "source": [
        "remove_occurence(my_list=[1,2,3,4,2,5,2],element=2)"
      ],
      "metadata": {
        "colab": {
          "base_uri": "https://localhost:8080/"
        },
        "id": "Sk3HTEyz0Akp",
        "outputId": "bfbaf16f-cdcd-49c8-d659-c4de06cdc699"
      },
      "execution_count": null,
      "outputs": [
        {
          "output_type": "execute_result",
          "data": {
            "text/plain": [
              "[1, 3, 4, 5]"
            ]
          },
          "metadata": {},
          "execution_count": 12
        }
      ]
    },
    {
      "cell_type": "code",
      "execution_count": null,
      "metadata": {
        "id": "lYETiNGWz_Zy",
        "colab": {
          "base_uri": "https://localhost:8080/"
        },
        "outputId": "d8104102-9f66-4261-e382-b4c42b37f342"
      },
      "outputs": [
        {
          "output_type": "stream",
          "name": "stdout",
          "text": [
            "1500\n"
          ]
        }
      ],
      "source": [
        "##12.implement a code to find the second largest number in a given list of integers.\n",
        "nums=[500,100,150,1000,1500,1600]\n",
        "largest = second_largest = float('-inf')\n",
        "for num in nums:\n",
        "        if num > largest:\n",
        "          second_largest = largest\n",
        "          largest = num\n",
        "        elif num > second_largest and num < largest:\n",
        "            second_largest = num\n",
        "print(second_largest)\n",
        "\n",
        "\n",
        "\n",
        "\n",
        "\n",
        "\n"
      ]
    },
    {
      "cell_type": "code",
      "execution_count": null,
      "metadata": {
        "colab": {
          "base_uri": "https://localhost:8080/"
        },
        "id": "ViFXCy8T4Fgg",
        "outputId": "2580bbda-c66a-454b-9618-6ad088de69ab"
      },
      "outputs": [
        {
          "data": {
            "text/plain": [
              "[50, 100, 150, 100, 1500, 1600]"
            ]
          },
          "execution_count": 138,
          "metadata": {},
          "output_type": "execute_result"
        }
      ],
      "source": []
    },
    {
      "cell_type": "code",
      "execution_count": null,
      "metadata": {
        "id": "xNRp7fei5e-T"
      },
      "outputs": [],
      "source": [
        "##13.create a code to count the occurence of each element in a list and return dictionary with element as key and their counts as value."
      ]
    },
    {
      "cell_type": "code",
      "execution_count": null,
      "metadata": {
        "id": "A5EbILzx4Hd3"
      },
      "outputs": [],
      "source": [
        "def count_element(lis):\n",
        "  dict1={}\n",
        "  for i in lis:\n",
        "    if i in  dict1:\n",
        "      dict1[i]+=1\n",
        "    else:\n",
        "      dict1[i]=1\n",
        "  return dict1\n",
        "\n"
      ]
    },
    {
      "cell_type": "code",
      "execution_count": null,
      "metadata": {
        "colab": {
          "base_uri": "https://localhost:8080/"
        },
        "id": "p0S5AMvxW2Do",
        "outputId": "0acac8c4-0e10-4986-8cdd-63188753fd38"
      },
      "outputs": [
        {
          "output_type": "execute_result",
          "data": {
            "text/plain": [
              "{1: 2, 2: 2, 3: 2, 4: 2, 5: 4}"
            ]
          },
          "metadata": {},
          "execution_count": 14
        }
      ],
      "source": [
        "count_element(lis=[1,2,3,4,5,1,2,3,4,5,5,5])"
      ]
    },
    {
      "cell_type": "code",
      "execution_count": null,
      "metadata": {
        "id": "RVW2vf1tO9oT",
        "colab": {
          "base_uri": "https://localhost:8080/"
        },
        "outputId": "4dd093a1-5b82-4713-c052-3806b163da25"
      },
      "outputs": [
        {
          "output_type": "stream",
          "name": "stdout",
          "text": [
            "[12, 11, 10, 'ram', 'abhishek', 'gupta', 'ajay', 3, 2, 1]\n"
          ]
        }
      ],
      "source": [
        "## 14.write a code to reverse a list in-place without using  any built-in reverse function.\n",
        "lis=[1,2,3,\"ajay\",\"gupta\",\"abhishek\",'ram',10,11,12]\n",
        "n=len(lis)\n",
        "for i in range(len(lis)//2):\n",
        "  lis[i],lis[n-i-1]=lis[n-i-1],lis[i]\n",
        "print(lis)\n",
        "\n"
      ]
    },
    {
      "cell_type": "code",
      "execution_count": null,
      "metadata": {
        "colab": {
          "base_uri": "https://localhost:8080/"
        },
        "id": "82IaJTBKZJm6",
        "outputId": "870e8680-80e1-4580-9a64-3605e248aa62"
      },
      "outputs": [
        {
          "data": {
            "text/plain": [
              "['apple', 'banana', 'mango']"
            ]
          },
          "execution_count": 227,
          "metadata": {},
          "output_type": "execute_result"
        }
      ],
      "source": [
        "##15.implement a code to find and remove duplicate while preserving the original order of elements\n",
        "lis=[\"apple\",\"banana\",\"apple\",\"banana\",\"mango\",\"mango\"]\n",
        "new_list=[]\n",
        "for i in lis:\n",
        "  if i not in new_list:\n",
        "    new_list.append(i)\n",
        "new_list"
      ]
    },
    {
      "cell_type": "code",
      "execution_count": null,
      "metadata": {
        "id": "0pxB6Fjx4Hg2"
      },
      "outputs": [],
      "source": [
        "##16.create code to check given list is sorted (either in ascending or descending order) or not\n",
        "def is_sorted(lis):\n",
        "  if all(lis[i]<lis[i+1] for i in range(len(lis)-1)):\n",
        "    return  \"ascending\"\n",
        "  elif all([lis[i]>lis[i+1] for i in range(len(lis)-1)]):\n",
        "    return  \"descending\"\n",
        "  else:\n",
        "    return  \"not_sorted\""
      ]
    },
    {
      "cell_type": "code",
      "execution_count": null,
      "metadata": {
        "colab": {
          "base_uri": "https://localhost:8080/",
          "height": 35
        },
        "id": "PymdZwd_dU7M",
        "outputId": "37f0d8d9-01a9-46fa-a44b-d4c8f48dc99d"
      },
      "outputs": [
        {
          "output_type": "execute_result",
          "data": {
            "text/plain": [
              "'descending'"
            ],
            "application/vnd.google.colaboratory.intrinsic+json": {
              "type": "string"
            }
          },
          "metadata": {},
          "execution_count": 55
        }
      ],
      "source": [
        "is_sorted(lis=[15,11,10,9,8,5])"
      ]
    },
    {
      "cell_type": "code",
      "execution_count": null,
      "metadata": {
        "id": "HaOnx_zWwF7W"
      },
      "outputs": [],
      "source": [
        "def merge_sorted_list(lis1,lis2):\n",
        "  i,j=0,0\n",
        "  merge_list=[]\n",
        "  while i<len(lis1)and j< len(lis2):\n",
        "    if lis1[i]<lis2[j]:\n",
        "     merge_list.append(lis1[i])\n",
        "     i+=1\n",
        "    else:\n",
        "     merge_list.append(lis2[j])\n",
        "     j+=1\n",
        "  while j< len(lis2):\n",
        "    merge_list.append(lis2[j])\n",
        "    j+=1\n",
        "  while i<len(lis2):\n",
        "   merge_list.append(lis1[i])\n",
        "   i+=1\n",
        "  return merge_list\n",
        "\n",
        "\n"
      ]
    },
    {
      "cell_type": "code",
      "execution_count": null,
      "metadata": {
        "colab": {
          "base_uri": "https://localhost:8080/"
        },
        "id": "i8IZpoq-3tNu",
        "outputId": "85c821d4-7175-42f5-d779-0ddd51a9ad4f"
      },
      "outputs": [
        {
          "output_type": "execute_result",
          "data": {
            "text/plain": [
              "[1, 2, 3, 4, 5, 6]"
            ]
          },
          "metadata": {},
          "execution_count": 66
        }
      ],
      "source": [
        "##17.write a code to merge two sorted list into single sorted listt\n",
        "lis1=[1,2,3]\n",
        "lis2=[4,5,6]\n",
        "merge_sorted_list(lis1,lis2)\n"
      ]
    },
    {
      "cell_type": "code",
      "execution_count": null,
      "metadata": {
        "colab": {
          "base_uri": "https://localhost:8080/"
        },
        "id": "7v8iTPc93tRW",
        "outputId": "ffb3fde2-1bfd-4657-e898-32f1b3d806d8"
      },
      "outputs": [
        {
          "data": {
            "text/plain": [
              "[3, 4]"
            ]
          },
          "execution_count": 291,
          "metadata": {},
          "output_type": "execute_result"
        }
      ],
      "source": [
        "##18.write a code to find the interesection of two given list.\n",
        "lis1=[1,2,3,4,5]\n",
        "lis2=[3,4,7,8]\n",
        "lis=[]\n",
        "for i in lis1:\n",
        "  if i in lis2:\n",
        "    lis.append(i)\n",
        "lis\n",
        "\n"
      ]
    },
    {
      "cell_type": "code",
      "execution_count": null,
      "metadata": {
        "id": "lBkcJ_tI47Vd",
        "colab": {
          "base_uri": "https://localhost:8080/"
        },
        "outputId": "05875582-f443-4859-b3a3-3b37ad1bb070"
      },
      "outputs": [
        {
          "output_type": "stream",
          "name": "stdout",
          "text": [
            "[1, 2, 5, 6, 7, 8, 3, 4]\n"
          ]
        }
      ],
      "source": [
        "##19.create a code to find the union of two list without duplicates.\n",
        "lis1=[1,2,3,4,5]\n",
        "lis2=[6,7,8,3,4]\n",
        "lis=[]\n",
        "for i in lis1:\n",
        "  if i not in lis2:\n",
        "    lis.append(i)\n",
        "for j in lis2:\n",
        "  j not in lis1\n",
        "  lis.append(j)\n",
        "print(lis)"
      ]
    },
    {
      "cell_type": "code",
      "execution_count": null,
      "metadata": {
        "id": "wrpYgVjIadA5"
      },
      "outputs": [],
      "source": [
        "##20write a code to shuffle a given list randomly without using any built-in shuffle functions.\n",
        "import random\n",
        "\n",
        "def shuffle_list(arr):\n",
        "    n = len(arr)\n",
        "    for i in range(n - 1, 0, -1):\n",
        "        j = random.randint(0, i)\n",
        "        arr[i], arr[j] = arr[j], arr[i]\n",
        "    return arr\n",
        "\n",
        "\n",
        "\n"
      ]
    },
    {
      "cell_type": "code",
      "source": [
        "shuffle_list(arr=[1,2,3,4,5,6,7,8])"
      ],
      "metadata": {
        "colab": {
          "base_uri": "https://localhost:8080/"
        },
        "id": "FwJ4loGJ2gMP",
        "outputId": "024f44bd-cd55-4efb-d23b-5af99156185d"
      },
      "execution_count": null,
      "outputs": [
        {
          "output_type": "execute_result",
          "data": {
            "text/plain": [
              "[8, 3, 1, 7, 4, 2, 5, 6]"
            ]
          },
          "metadata": {},
          "execution_count": 7
        }
      ]
    },
    {
      "cell_type": "code",
      "execution_count": null,
      "metadata": {
        "colab": {
          "base_uri": "https://localhost:8080/"
        },
        "id": "n4urqBuca60d",
        "outputId": "329422ef-ee32-43fc-e404-f2d5e6040d13"
      },
      "outputs": [
        {
          "name": "stdout",
          "output_type": "stream",
          "text": [
            "(2, 3, 4)\n"
          ]
        }
      ],
      "source": [
        "## 21. write a code  that takes two tuple as input and return a new tuple containing a elements that are common to both input tuples\n",
        "tup=()\n",
        "tup1=(1,2,3,4)\n",
        "tup2=(2,3,4,7)\n",
        "common=tuple(i for i in tup1 if i in tup2)\n",
        "print(common)"
      ]
    },
    {
      "cell_type": "code",
      "execution_count": null,
      "metadata": {
        "colab": {
          "base_uri": "https://localhost:8080/"
        },
        "id": "AtY-v6V3gbUS",
        "outputId": "0a24cc03-c986-40e4-95ec-41d66a0f923c"
      },
      "outputs": [
        {
          "name": "stdout",
          "output_type": "stream",
          "text": [
            "enter  first set of integer 1,2,3,4\n",
            "enter second set of integer3,4,5\n",
            "{3, 4}\n"
          ]
        }
      ],
      "source": [
        "## create a code that prompts the user to enter two set of integers seprated by commas.then print the intersection of these two sets.\n",
        "a=(input(\"enter  first set of integer \"))\n",
        "b=(input(\"enter second set of integer\"))\n",
        "set1=set(map(int,a.split(',')))\n",
        "set2=set(map(int,b.split(',')))\n",
        "intersection=set1&set2\n",
        "print(intersection)"
      ]
    },
    {
      "cell_type": "code",
      "execution_count": null,
      "metadata": {
        "id": "sfcGqJgcbfFC"
      },
      "outputs": [],
      "source": [
        "##23 write a code to concatentate two tuple.the function should take two tuple as input and return a new tuple containing elelment form both tupple.\n",
        "def concatentate(tup1,tup2):\n",
        "  new_tup=tup1+tup2\n",
        "  return new_tup\n"
      ]
    },
    {
      "cell_type": "code",
      "execution_count": null,
      "metadata": {
        "colab": {
          "base_uri": "https://localhost:8080/"
        },
        "id": "XrDELs6cfZab",
        "outputId": "8f592311-9d15-4049-f7cf-3eb2d0a900d8"
      },
      "outputs": [
        {
          "data": {
            "text/plain": [
              "(1, 2, 3, 4, 5, 6, 7, 8)"
            ]
          },
          "execution_count": 3,
          "metadata": {},
          "output_type": "execute_result"
        }
      ],
      "source": [
        "concatentate(tup1=(1,2,3,4),tup2=(5,6,7,8))"
      ]
    },
    {
      "cell_type": "code",
      "execution_count": null,
      "metadata": {
        "colab": {
          "base_uri": "https://localhost:8080/"
        },
        "id": "lXjl6V6gdy0V",
        "outputId": "85d277a7-b347-4a24-f3b3-2dadb8b5dd55"
      },
      "outputs": [
        {
          "name": "stdout",
          "output_type": "stream",
          "text": [
            "enter the first set of stringhe is a good person\n",
            "enterthe second set of stringhe is form mumbai\n",
            "the first set of string is:he is a good person\n"
          ]
        }
      ],
      "source": [
        "##24. develop a code that prompts the user to input two sets of string.then,print the elment that are present in first not in second set.\n",
        "a=input(\"enter the first set of string\")\n",
        "b=input(\"enterthe second set of string\")\n",
        "print(f\"the first set of string is:{a}\")"
      ]
    },
    {
      "cell_type": "code",
      "execution_count": null,
      "metadata": {
        "id": "9TdEqvCFfZWW"
      },
      "outputs": [],
      "source": [
        "## 25.create a code that takes a tuple and two integers as input the function should return new tuple containing element from the original tuple with\n",
        "## specified range of indices.\n",
        "def new_tuple(tup,a,b):\n",
        "\n",
        "  return(tup[2:4],a,b)\n"
      ]
    },
    {
      "cell_type": "code",
      "execution_count": null,
      "metadata": {
        "colab": {
          "base_uri": "https://localhost:8080/"
        },
        "id": "2dLgkcUCbfJM",
        "outputId": "f571dfab-5303-4170-8a1c-115c3ea26777"
      },
      "outputs": [
        {
          "data": {
            "text/plain": [
              "((3, 4), 5, 7)"
            ]
          },
          "execution_count": 18,
          "metadata": {},
          "output_type": "execute_result"
        }
      ],
      "source": [
        "new_tuple(tup=(1,2,3,4,5),a=5,b=7)"
      ]
    },
    {
      "cell_type": "code",
      "execution_count": null,
      "metadata": {
        "colab": {
          "base_uri": "https://localhost:8080/"
        },
        "id": "97paKMifbfgc",
        "outputId": "39acda51-f2cd-4976-a54b-0f1b52c32ebd"
      },
      "outputs": [
        {
          "name": "stdout",
          "output_type": "stream",
          "text": [
            "enter the set of characterq,w,e,r\n",
            "enter the set of charactersa,b,c,e\n",
            "union is:{'r', 'e', 'c', 'q', 'b', 'a', 'w'}\n"
          ]
        }
      ],
      "source": [
        "##26. write a code that prompts a user to input two set characters,then print union of these two set\n",
        "a=input(\"enter the set of character\")\n",
        "b=input(\"enter the set of characters\")\n",
        "set1=set(map(str,a.split(',')))\n",
        "set2=set(map(str,b.split(',')))\n",
        "c=set1|set2\n",
        "print(f\"union is:{c}\")\n"
      ]
    },
    {
      "cell_type": "code",
      "execution_count": null,
      "metadata": {
        "id": "JIWtrgkcbfkk"
      },
      "outputs": [],
      "source": [
        "##27.develop a code that takes tuple of integers as input.the function should return the maximum and minmium value from the tuple using tuple unpacking.\n",
        "def max_min(tup):\n",
        "  a,b,c,d,e=tup\n",
        "  max_value=max(a,b,c,d,e)\n",
        "  min_value=min(a,b,c,d,e)\n",
        "  return print(f\" maximum value={max_value}\\nminimum value={min_value}\")\n",
        "\n"
      ]
    },
    {
      "cell_type": "code",
      "execution_count": null,
      "metadata": {
        "colab": {
          "base_uri": "https://localhost:8080/"
        },
        "id": "aKuyLNBsqRax",
        "outputId": "f6071ac4-1894-4463-e456-6aba3e2d9e9c"
      },
      "outputs": [
        {
          "name": "stdout",
          "output_type": "stream",
          "text": [
            " maximum value=78\n",
            "minimum value=33\n"
          ]
        }
      ],
      "source": [
        "max_min(tup=(34,45,65,78,33))"
      ]
    },
    {
      "cell_type": "code",
      "execution_count": null,
      "metadata": {
        "colab": {
          "base_uri": "https://localhost:8080/"
        },
        "id": "DbBi01K0qYOr",
        "outputId": "f5bc99bf-d07c-4525-ea92-50c4e78825cd"
      },
      "outputs": [
        {
          "name": "stdout",
          "output_type": "stream",
          "text": [
            "union{1, 2, 3, 4, 5, 6, 7, 8}\n",
            " intersection{4, 5}\n",
            "difference {1, 2, 3}\n"
          ]
        }
      ],
      "source": [
        "##28. create a code that define two set of integers.then print the union,intersection, and differences of these two set.\n",
        "set1={1,2,3,4,5}\n",
        "set2={4,5,6,7,8}\n",
        "union=set1|set2\n",
        "intersection=set1&set2\n",
        "diff=set1-set2\n",
        "print(f\"union{union}\\n intersection{intersection}\\ndifference {diff}\")"
      ]
    },
    {
      "cell_type": "code",
      "execution_count": null,
      "metadata": {
        "id": "8_ArS6BXtXbg"
      },
      "outputs": [],
      "source": [
        "##29. write a code that take a tuple and element as input the function should return count of occurence of the given element in tuple\n",
        "def count_element(tup,element):\n",
        "  count=0\n",
        "  for i in tup:\n",
        "    if i==element:\n",
        "      count+=1\n",
        "  return count\n",
        "\n"
      ]
    },
    {
      "cell_type": "code",
      "execution_count": null,
      "metadata": {
        "colab": {
          "base_uri": "https://localhost:8080/"
        },
        "id": "ssBs5tx1umHB",
        "outputId": "4cc40586-0d8b-4800-92b9-d205656f52d3"
      },
      "outputs": [
        {
          "data": {
            "text/plain": [
              "4"
            ]
          },
          "execution_count": 45,
          "metadata": {},
          "output_type": "execute_result"
        }
      ],
      "source": [
        "count_element(tup=(1,2,3,4,4,5,4,6,7,4),element=4)"
      ]
    },
    {
      "cell_type": "code",
      "execution_count": null,
      "metadata": {
        "colab": {
          "base_uri": "https://localhost:8080/"
        },
        "id": "Z8P3Qkzpu8xg",
        "outputId": "765a5eca-6e33-44a1-8a72-1050cf9f68c4"
      },
      "outputs": [
        {
          "name": "stdout",
          "output_type": "stream",
          "text": [
            "1,2,3,4,5,6,4\n",
            "4\n"
          ]
        },
        {
          "data": {
            "text/plain": [
              "2"
            ]
          },
          "execution_count": 47,
          "metadata": {},
          "output_type": "execute_result"
        }
      ],
      "source": [
        "count_element(tup=(tuple(input())),element=int(input()))"
      ]
    },
    {
      "cell_type": "code",
      "execution_count": null,
      "metadata": {
        "id": "hwppXUOXs26C"
      },
      "outputs": [],
      "source": [
        "## 30 develop a code that prompts the user to input two set of strings.then,print symmetric differnce of these two sets"
      ]
    },
    {
      "cell_type": "code",
      "execution_count": null,
      "metadata": {
        "colab": {
          "base_uri": "https://localhost:8080/"
        },
        "id": "8XU_FRtvaP9o",
        "outputId": "c09250d8-bac4-447e-c617-250e8d2dc343"
      },
      "outputs": [
        {
          "name": "stdout",
          "output_type": "stream",
          "text": [
            "enter the string firsthe id form delhi\n",
            "enter the string secondhe is playing a badmination\n",
            "{'t', 'f', 'b', 'y', 'p', 's', 'r', 'n', 'g', 'a'}\n"
          ]
        }
      ],
      "source": [
        "set1=set(input(\"enter the string first\"))\n",
        "set2=set(input(\"enter the string second\"))\n",
        "sym_difference=set1^set2\n",
        "print(sym_difference)"
      ]
    },
    {
      "cell_type": "code",
      "execution_count": null,
      "metadata": {
        "id": "ZHMSnCqySUra"
      },
      "outputs": [],
      "source": [
        "##Write a code that takes a list of words as input and returns a dictionary where the keys are unique words\n",
        "##and the values are the frequencies of those words in the input list\n",
        "def word_frequency(lis):\n",
        "  dict2={}\n",
        "  for i in lis:\n",
        "    if i not in dict2:\n",
        "      dict2[i]=1\n",
        "    else:\n",
        "      dict2[i]+=1\n",
        "  return dict2\n",
        "\n",
        "\n"
      ]
    },
    {
      "cell_type": "code",
      "execution_count": null,
      "metadata": {
        "colab": {
          "base_uri": "https://localhost:8080/"
        },
        "id": "FRyzv7DOSUvR",
        "outputId": "d6a61e65-8b5b-45c0-e556-3883b8004aea"
      },
      "outputs": [
        {
          "data": {
            "text/plain": [
              "{'apple': 2, 'banana': 1, 'orange': 2, 'mango': 2}"
            ]
          },
          "execution_count": 12,
          "metadata": {},
          "output_type": "execute_result"
        }
      ],
      "source": [
        "word_frequency(lis=[\"apple\",\"banana\",\"orange\",\"mango\",\"apple\",\"mango\",\"orange\"])"
      ]
    },
    {
      "cell_type": "code",
      "execution_count": null,
      "metadata": {
        "id": "T32QWOnBCyeK"
      },
      "outputs": [],
      "source": [
        "## write a code that takes two dictionary  as input and merge them into single dictionary.if there are commmon keys,the value should be added together."
      ]
    },
    {
      "cell_type": "code",
      "execution_count": null,
      "metadata": {
        "id": "mV69-ONoCrtD"
      },
      "outputs": [],
      "source": [
        "def merge_dict(dict1,dict2):\n",
        "  dict3={}\n",
        "  dict3=dict1.copy()\n",
        "  for i in dict2:\n",
        "    if i in dict3:\n",
        "      dict3[i]+=dict2[i]\n",
        "    else:\n",
        "      dict3[i]=dict2[i]\n",
        "  return dict3\n",
        "\n",
        "\n",
        "\n"
      ]
    },
    {
      "cell_type": "code",
      "execution_count": null,
      "metadata": {
        "colab": {
          "base_uri": "https://localhost:8080/"
        },
        "id": "ac-opvrtG5UL",
        "outputId": "25804ff6-b9be-49cb-b07b-a1201e0bb899"
      },
      "outputs": [
        {
          "data": {
            "text/plain": [
              "{'a': 2, 'b': 2, 'c': 3, 'd': 4, 'e': 5}"
            ]
          },
          "execution_count": 10,
          "metadata": {},
          "output_type": "execute_result"
        }
      ],
      "source": [
        "merge_dict(dict1={\"a\":1,\"b\":2,\"c\":3},dict2={\"a\":1,\"d\":4,\"e\":5})"
      ]
    },
    {
      "cell_type": "code",
      "execution_count": null,
      "metadata": {
        "id": "95NTeIKZAKxA"
      },
      "outputs": [],
      "source": [
        "##33.write a code to access a value in nested dictionary.the function should take the dictionary and a list of keys as input,return the corresponding\n",
        "## value.if any of the key do not exist dictionary,the function should return none.\n",
        "def nested_dictionary():\n",
        "  for i"
      ]
    },
    {
      "cell_type": "code",
      "execution_count": null,
      "metadata": {
        "id": "LOf3c8GF3JmF"
      },
      "outputs": [],
      "source": [
        "##34. write a code that takes dictioinary as input and return a sorted version of it based on the values.you can choose wheather to sort in ascending\n",
        "## or desceding order\n",
        "def sort_dict(dict1):\n",
        "  sorted_dict=dict(sorted(dict1.items(),key=lambda a:a[1]))\n",
        "  return sorted_dict\n"
      ]
    },
    {
      "cell_type": "code",
      "execution_count": null,
      "metadata": {
        "colab": {
          "base_uri": "https://localhost:8080/"
        },
        "id": "tgaVA1CnSFsx",
        "outputId": "bde1695d-5016-4ed4-9df6-2df033f18780"
      },
      "outputs": [
        {
          "data": {
            "text/plain": [
              "{'b': 12, 'c': 18, 'a': 22}"
            ]
          },
          "execution_count": 47,
          "metadata": {},
          "output_type": "execute_result"
        }
      ],
      "source": [
        "dict1={\"a\":22,\"b\":12,\"c\":18}\n",
        "sort_dict(dict1)"
      ]
    },
    {
      "cell_type": "code",
      "execution_count": null,
      "metadata": {
        "id": "7d-ZxYSPuuGV"
      },
      "outputs": [],
      "source": [
        "##35. write a  code that inverts a dictionary,swapping keys and values.ensure that the inverted dictionary correctly handles cases where multiple key\n",
        "## have the same values by sorting the keys as list in the inverted dictionary.\n",
        "def invert_dict(dict1):\n",
        "  inverted_dict={}\n",
        "  for key,value in dict1.items():\n",
        "    if value  in inverted_dict:\n",
        "      inverted_dict[value].append(key)\n",
        "    else:\n",
        "        inverted_dict[value]=[key]\n",
        "  for value in inverted_dict:\n",
        "    inverted_dict[value].sort()\n",
        "  return inverted_dict\n"
      ]
    },
    {
      "cell_type": "code",
      "execution_count": null,
      "metadata": {
        "colab": {
          "base_uri": "https://localhost:8080/"
        },
        "id": "aL4Ax0GCN-aB",
        "outputId": "8fe4f76a-a543-43f8-98da-ac12f4328cc1"
      },
      "outputs": [
        {
          "data": {
            "text/plain": [
              "{9: ['a', 'd'], 2: ['b'], 3: ['c']}"
            ]
          },
          "execution_count": 44,
          "metadata": {},
          "output_type": "execute_result"
        }
      ],
      "source": [
        "invert_dict({\"a\":9,\"b\":2,\"c\":3,\"d\":9})\n",
        "\n",
        "\n"
      ]
    }
  ],
  "metadata": {
    "colab": {
      "provenance": [],
      "authorship_tag": "ABX9TyPA89IkE4CcUopD0oXkRPQF",
      "include_colab_link": true
    },
    "kernelspec": {
      "display_name": "Python 3",
      "name": "python3"
    },
    "language_info": {
      "name": "python"
    }
  },
  "nbformat": 4,
  "nbformat_minor": 0
}